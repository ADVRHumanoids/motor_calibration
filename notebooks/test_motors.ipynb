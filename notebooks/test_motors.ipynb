{
 "metadata": {
  "language_info": {
   "codemirror_mode": {
    "name": "ipython",
    "version": 3
   },
   "file_extension": ".py",
   "mimetype": "text/x-python",
   "name": "python",
   "nbconvert_exporter": "python",
   "pygments_lexer": "ipython3",
   "version": "3.6.9-final"
  },
  "orig_nbformat": 2,
  "kernelspec": {
   "name": "Python 3.6.9 64-bit",
   "display_name": "Python 3.6.9 64-bit",
   "metadata": {
    "interpreter": {
     "hash": "31f2aee4e71d21fbe5cf8b01ff0e069b9275f58929596ceb00d14d90e3e16cd6"
    }
   }
  }
 },
 "nbformat": 4,
 "nbformat_minor": 2,
 "cells": [
  {
   "cell_type": "code",
   "execution_count": null,
   "metadata": {},
   "outputs": [],
   "source": [
    "import os\n",
    "import sys\n",
    "import glob\n",
    "import yaml\n",
    "import numpy as np\n",
    "# tell matplotlib not to try to load up GTK as it returns errors over ssh\n",
    "from matplotlib import use as plt_use\n",
    "plt_use(\"Agg\")\n",
    "from matplotlib import pyplot as plt\n",
    "\n",
    "#import costum files\n",
    "sys.path.append('/home/tree/ecat_dev/motor_calibration')\n",
    "import process_phase\n",
    "import process_ripple\n",
    "import process_friction\n",
    "import plot_utils"
   ]
  },
  {
   "cell_type": "code",
   "execution_count": null,
   "metadata": {},
   "outputs": [],
   "source": [
    "## Parameters:\n",
    "# path to test-pdo\n",
    "cmd0 = os.path.expanduser('~/ecat_dev/ec_master_app/build/examples/motor-calib/test-pdo/test-pdo')\n",
    "# path to phase-calib to test phase angle and log data\n",
    "cmd1 = os.path.expanduser('~/ecat_dev/ec_master_app/build/examples/motor-calib/phase-calib/phase-calib')\n",
    "# path to set-phase to set the optimized value to the motor\n",
    "cmd2 = os.path.expanduser('~/ecat_dev/ec_master_app/build/examples/motor-calib/set-phase/set-phase')\n",
    "# path to ripple-calib to test test ripple and positionl offset\n",
    "cmd3 = os.path.expanduser('~/ecat_dev/ec_master_app/build/examples/motor-calib/ripple-calib/ripple-calib')\n",
    "# path to friction-calib for inertia and friction identification\n",
    "cmd4 = os.path.expanduser('~/ecat_dev/ec_master_app/build/examples/motor-calib/friction-calib/friction-calib')\n",
    "# path to the configuration file for the motor and the test variables\n",
    "config_file = os.path.expanduser('~/ecat_dev/ec_master_app/examples/motor-calib/config.yaml')\n",
    "\n",
    "#print logo\n",
    "plot_utils.print_alberobotics()"
   ]
  },
  {
   "cell_type": "code",
   "execution_count": null,
   "metadata": {},
   "outputs": [],
   "source": [
    "## test pdo\n",
    "print(plot_utils.bcolors.OKBLUE + \"[i] Starting test-pdo\" + plot_utils.bcolors.ENDC)\n",
    "if os.system(cmd0 + ' ' + config_file):\n",
    "    sys.exit(plot_utils.bcolors.FAIL + u'[\\u2717] Error during test-pdo' + plot_utils.bcolors.ENDC)\n",
    "print(plot_utils.bcolors.OKBLUE + \"[i] Ended test-pdo successfully\" + plot_utils.bcolors.ENDC)\n",
    "\n",
    "#get updated yaml file\n",
    "list_of_files = glob.glob('/logs/*.yaml')\n",
    "config_file = max(list_of_files, key=os.path.getctime)"
   ]
  },
  {
   "cell_type": "code",
   "execution_count": null,
   "metadata": {},
   "outputs": [],
   "source": [
    "## test phase angles\n",
    "print(plot_utils.bcolors.OKBLUE + \"[i] Starting phase-calib\" + plot_utils.bcolors.ENDC)\n",
    "if os.system(cmd1 + ' ' + config_file):\n",
    "    sys.exit(plot_utils.bcolors.FAIL + u'[\\u2717] Error during phase-calib' + plot_utils.bcolors.ENDC)\n",
    "print(plot_utils.bcolors.OKBLUE + \"[i] Ended phase-calib successfully\" + plot_utils.bcolors.ENDC)\n",
    "\n",
    "# process extracted data\n",
    "print(plot_utils.bcolors.OKBLUE + \"[i] Processing phase data\" + plot_utils.bcolors.ENDC)\n",
    "config_file = process_phase.process(yaml_file=config_file, plot_all=False)\n",
    "\n"
   ]
  },
  {
   "cell_type": "code",
   "execution_count": null,
   "metadata": {},
   "outputs": [],
   "source": [
    "## Upload to motor the best phase angle\n",
    "print(plot_utils.bcolors.OKBLUE + \"[i] Sending phase angle to motor using set-phase\" +  plot_utils.bcolors.ENDC)\n",
    "if os.system(cmd2 + ' ' + config_file):\n",
    "    sys.exit(plot_utils.bcolors.FAIL + u'[\\u2717] Error during set-phase' + plot_utils.bcolors.ENDC)\n",
    "print(plot_utils.bcolors.OKBLUE + \"[i] Ended set-phase successfully\" + plot_utils.bcolors.ENDC)"
   ]
  },
  {
   "cell_type": "code",
   "execution_count": null,
   "metadata": {},
   "outputs": [],
   "source": [
    "## test ripple and position dependant torque\n",
    "print(plot_utils.bcolors.OKBLUE + \"[i] Starting ripple-calib\" + plot_utils.bcolors.ENDC)\n",
    "if os.system(cmd3 + ' ' + config_file):\n",
    "    sys.exit(plot_utils.bcolors.FAIL + u'[\\u2717] Error during ripple-calib' + plot_utils.bcolors.ENDC)\n",
    "print(plot_utils.bcolors.OKBLUE + \"[i] Ended ripple-calib successfully\" + plot_utils.bcolors.ENDC)\n",
    "\n",
    "# process extracted data\n",
    "print(plot_utils.bcolors.OKBLUE + \"[i] Processing ripple data\" + plot_utils.bcolors.ENDC)\n",
    "config_file = process_ripple.process(yaml_file=config_file, plot_all=False)\n"
   ]
  },
  {
   "cell_type": "code",
   "execution_count": null,
   "metadata": {},
   "outputs": [],
   "source": [
    "## Inertia and friction identification\n",
    "print(plot_utils.bcolors.OKBLUE + \"[i] Starting friction-calib\" + plot_utils.bcolors.ENDC)\n",
    "if os.system(cmd4 + ' ' + config_file):\n",
    "    sys.exit(plot_utils.bcolors.FAIL + u'[\\u2717] Error during friction-calib' + plot_utils.bcolors.ENDC)\n",
    "print(plot_utils.bcolors.OKBLUE + \"[i] Ended friction-calib successfully\" + plot_utils.bcolors.ENDC)\n"
   ]
  },
  {
   "cell_type": "code",
   "execution_count": null,
   "metadata": {},
   "outputs": [],
   "source": [
    "# process extracted data\n",
    "print(plot_utils.bcolors.OKBLUE + \"[i] Processing friction data\" + plot_utils.bcolors.ENDC)\n",
    "process_friction.move_log()\n",
    "process_friction.process(yaml_file=config_file, plot_all=False)\n"
   ]
  },
  {
   "cell_type": "code",
   "execution_count": null,
   "metadata": {},
   "outputs": [],
   "source": [
    "print(plot_utils.bcolors.OKGREEN + u'[\\u2713] Ending program successfully' + plot_utils.bcolors.ENDC)\n"
   ]
  }
 ]
}