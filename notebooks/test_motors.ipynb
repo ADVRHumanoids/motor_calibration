{
 "metadata": {
  "language_info": {
   "codemirror_mode": {
    "name": "ipython",
    "version": 3
   },
   "file_extension": ".py",
   "mimetype": "text/x-python",
   "name": "python",
   "nbconvert_exporter": "python",
   "pygments_lexer": "ipython3",
   "version": "3.6.9"
  },
  "orig_nbformat": 2,
  "kernelspec": {
   "name": "python369jvsc74a57bd031f2aee4e71d21fbe5cf8b01ff0e069b9275f58929596ceb00d14d90e3e16cd6",
   "display_name": "Python 3.6.9 64-bit"
  },
  "metadata": {
   "interpreter": {
    "hash": "31f2aee4e71d21fbe5cf8b01ff0e069b9275f58929596ceb00d14d90e3e16cd6"
   }
  }
 },
 "nbformat": 4,
 "nbformat_minor": 2,
 "cells": [
  {
   "cell_type": "code",
   "execution_count": 1,
   "metadata": {},
   "outputs": [],
   "source": [
    "import os\n",
    "import sys\n",
    "import glob\n",
    "import yaml\n",
    "import numpy as np\n",
    "# tell matplotlib not to try to load up GTK as it returns errors over ssh\n",
    "from matplotlib import use as plt_use\n",
    "plt_use(\"Agg\")\n",
    "from matplotlib import pyplot as plt\n",
    "\n",
    "#import costum files\n",
    "sys.path.append('/home/tree/ecat_dev/motor_calibration')\n",
    "from utils import process_phase\n",
    "from utils import process_torque\n",
    "from utils import process_ripple\n",
    "from utils import process_friction\n",
    "from utils import plot_utils\n",
    "from utils import move_utils\n",
    "from utils.prompt_utils import single_yes_or_no_question as prompt_user"
   ]
  },
  {
   "cell_type": "code",
   "execution_count": 4,
   "metadata": {},
   "outputs": [
    {
     "output_type": "stream",
     "name": "stdout",
     "text": [
      "\u001b[38;5;234m················································································\n\u001b[38;5;234m·\u001b[38;5;234m······················\u001b[38;5;242m·\u001b[38;5;235mG\u001b[38;5;243mQ\u001b[38;5;243mQ\u001b[38;5;238mp\u001b[38;5;234m·\u001b[38;5;234m···················································\n\u001b[38;5;234m·························\u001b[38;5;240mD\u001b[38;5;243mQ\u001b[38;5;243mQ\u001b[38;5;244mQ\u001b[38;5;242m·\u001b[38;5;234m·\u001b[38;5;234m·················································\n\u001b[38;5;234m·························\u001b[38;5;234m·\u001b[38;5;95m(\u001b[38;5;52mG\u001b[38;5;1mG\u001b[38;5;88mG\u001b[38;5;160mG\u001b[38;5;160mG\u001b[38;5;160mG\u001b[38;5;196mG\u001b[38;5;196mG\u001b[38;5;196mGGGGG\u001b[38;5;160mG\u001b[38;5;160mG\u001b[38;5;160mG\u001b[38;5;160mb\u001b[38;5;167mp\u001b[38;5;131mp\u001b[38;5;131mp\u001b[38;5;95mp\u001b[38;5;95mp\u001b[38;5;234m·\u001b[38;5;234m·\u001b[38;5;234m·····························\n\u001b[38;5;234m···················\u001b[38;5;234m·\u001b[38;5;131m·\u001b[38;5;131mp\u001b[38;5;160mG\u001b[38;5;196mG\u001b[38;5;196mb\u001b[38;5;196mbb\u001b[38;5;196mG\u001b[38;5;124mQ\u001b[38;5;88mQ\u001b[38;5;1mp\u001b[38;5;131mO\u001b[38;5;131m·\u001b[38;5;95m·\u001b[38;5;95m·\u001b[38;5;234m·\u001b[38;5;234m·\u001b[38;5;234m······\u001b[38;5;234m·\u001b[38;5;95m·\u001b[38;5;236md\u001b[38;5;52mQ\u001b[38;5;52mQ\u001b[38;5;88mp\u001b[38;5;160mG\u001b[38;5;160mG\u001b[38;5;160mG\u001b[38;5;160mb\u001b[38;5;167mp\u001b[38;5;131mp\u001b[38;5;95m·\u001b[38;5;234m·\u001b[38;5;234m·······················\n\u001b[38;5;234m···············\u001b[38;5;95m·\u001b[38;5;131mp\u001b[38;5;160mG\u001b[38;5;196mG\u001b[38;5;196mb\u001b[38;5;196mb\u001b[38;5;196mG\u001b[38;5;160mC\u001b[38;5;131mD\u001b[38;5;131m·\u001b[38;5;234m·\u001b[38;5;234m·\u001b[38;5;234m·\u001b[38;5;240md\u001b[38;5;243mQ\u001b[38;5;243mQ\u001b[38;5;237mb\u001b[38;5;234m·\u001b[38;5;234m··········\u001b[38;5;233m·\u001b[38;5;244mQ\u001b[38;5;243mQ\u001b[38;5;243mQQ\u001b[38;5;239mb\u001b[38;5;234m·\u001b[38;5;234m···\u001b[38;5;95m·\u001b[38;5;131m·\u001b[38;5;131mD\u001b[38;5;160mG\u001b[38;5;160mGb\u001b[38;5;131mp\u001b[38;5;95m·\u001b[38;5;234m·\u001b[38;5;234m··················\n\u001b[38;5;234m············\u001b[38;5;131m·\u001b[38;5;160mG\u001b[38;5;196mG\u001b[38;5;196mbb\u001b[38;5;160mQ\u001b[38;5;88mS\u001b[38;5;52mQ\u001b[38;5;233m·\u001b[38;5;234m·\u001b[38;5;234m······\u001b[38;5;234m·\u001b[38;5;243mQ\u001b[38;5;243mQ\u001b[38;5;234mG\u001b[38;5;234m·\u001b[38;5;234m·········\u001b[38;5;233m·\u001b[38;5;244mQ\u001b[38;5;243mQ\u001b[38;5;243mQG\u001b[38;5;240mO\u001b[38;5;234m·\u001b[38;5;234m·········\u001b[38;5;234m·\u001b[38;5;131m·\u001b[38;5;131mD\u001b[38;5;160mG\u001b[38;5;160mG\u001b[38;5;167mp\u001b[38;5;131mp\u001b[38;5;234m·\u001b[38;5;234m·\u001b[38;5;234m·············\n\u001b[38;5;234m··········\u001b[38;5;131m(\u001b[38;5;160mG\u001b[38;5;196mb\u001b[38;5;196mG\u001b[38;5;166mC\u001b[38;5;131m(\u001b[38;5;243mQ\u001b[38;5;243mQQQ\u001b[38;5;243mQ\u001b[38;5;239mp\u001b[38;5;234m·\u001b[38;5;234m······\u001b[38;5;243mQ\u001b[38;5;243mQ\u001b[38;5;234mG\u001b[38;5;234m·\u001b[38;5;234m··\u001b[38;5;234m·\u001b[38;5;234m······\u001b[38;5;236mS\u001b[38;5;233mG\u001b[38;5;243mQG\u001b[38;5;242m·\u001b[38;5;234m·\u001b[38;5;234m···············\u001b[38;5;95m·\u001b[38;5;131m)\u001b[38;5;160mG\u001b[38;5;160mG\u001b[38;5;167mp\u001b[38;5;131mp\u001b[38;5;239md\u001b[38;5;235mQ\u001b[38;5;244mQ\u001b[38;5;235mQ\u001b[38;5;233m·\u001b[38;5;234m·\u001b[38;5;234m·····\n\u001b[38;5;234m········\u001b[38;5;131m(\u001b[38;5;160mG\u001b[38;5;196mG\u001b[38;5;167mC\u001b[38;5;131m·\u001b[38;5;234m·\u001b[38;5;234m··\u001b[38;5;237mS\u001b[38;5;243mQ\u001b[38;5;243mQQQQ\u001b[38;5;244mQ\u001b[38;5;239mp\u001b[38;5;233m·\u001b[38;5;234m·\u001b[38;5;137m·\u001b[38;5;137mp\u001b[38;5;137mp\u001b[38;5;136mD\u001b[38;5;172ms\u001b[38;5;178ms\u001b[38;5;214mp\u001b[38;5;214mppppppppppps\u001b[38;5;178mb\u001b[38;5;178mp\u001b[38;5;178mp\u001b[38;5;137mp\u001b[38;5;137mp\u001b[38;5;137m·\u001b[38;5;101m·\u001b[38;5;234m·\u001b[38;5;234m·············\u001b[38;5;240ms\u001b[38;5;235mQ\u001b[38;5;1mQ\u001b[38;5;160mQ\u001b[38;5;160mp\u001b[38;5;1mS\u001b[38;5;238mQ\u001b[38;5;234m·\u001b[38;5;234m······\n\u001b[38;5;234m······\u001b[38;5;131m·\u001b[38;5;160mG\u001b[38;5;160mC\u001b[38;5;131m·\u001b[38;5;234m·\u001b[38;5;234m······\u001b[38;5;59m(\u001b[38;5;235mG\u001b[38;5;243mQ\u001b[38;5;233mG\u001b[38;5;58mG\u001b[38;5;94mD\u001b[38;5;172ms\u001b[38;5;214ms\u001b[38;5;214mp\u001b[38;5;172mQ\u001b[38;5;136mp\u001b[38;5;94mp\u001b[38;5;94mp\u001b[38;5;58mQ\u001b[38;5;236mQ\u001b[38;5;101m·\u001b[38;5;101m·\u001b[38;5;234m·\u001b[38;5;234m··\u001b[38;5;234m····\u001b[38;5;237md\u001b[38;5;243mQ\u001b[38;5;244mQ\u001b[38;5;235mQ\u001b[38;5;95mb\u001b[38;5;137m·\u001b[38;5;137m·\u001b[38;5;179m·\u001b[38;5;178mG\u001b[38;5;178mG\u001b[38;5;214mb\u001b[38;5;214mpp\u001b[38;5;178mp\u001b[38;5;173mp\u001b[38;5;137mp\u001b[38;5;101m·\u001b[38;5;234m·\u001b[38;5;234m····\u001b[38;5;242m(\u001b[38;5;237md\u001b[38;5;243mQ\u001b[38;5;243mQ\u001b[38;5;233mG\u001b[38;5;235mG\u001b[38;5;240mD\u001b[38;5;233m·\u001b[38;5;95m·\u001b[38;5;131m·\u001b[38;5;131mD\u001b[38;5;131mb\u001b[38;5;234m·\u001b[38;5;234m·\u001b[38;5;234m···\n\u001b[38;5;234m····\u001b[38;5;234m·\u001b[38;5;166mp\u001b[38;5;167mC\u001b[38;5;233m·\u001b[38;5;234m·\u001b[38;5;234m········\u001b[38;5;137m·\u001b[38;5;137mp\u001b[38;5;178mb\u001b[38;5;214mp\u001b[38;5;178mG\u001b[38;5;136md\u001b[38;5;58mS\u001b[38;5;244mQ\u001b[38;5;243mQ\u001b[38;5;243mQQQQQQ\u001b[38;5;237mb\u001b[38;5;234m·\u001b[38;5;234m·······\u001b[38;5;234mS\u001b[38;5;243mQ\u001b[38;5;243mQQ\u001b[38;5;240mb\u001b[38;5;234m·\u001b[38;5;234m·····\u001b[38;5;101m·\u001b[38;5;137m·\u001b[38;5;137m·\u001b[38;5;178mG\u001b[38;5;214mG\u001b[38;5;214mpp\u001b[38;5;178mp\u001b[38;5;179mp\u001b[38;5;137mp\u001b[38;5;236mG\u001b[38;5;243mQ\u001b[38;5;243mQ\u001b[38;5;235mG\u001b[38;5;240mD\u001b[38;5;233m·\u001b[38;5;234m·\u001b[38;5;234m···········\n\u001b[38;5;234m··\u001b[38;5;240ms\u001b[38;5;1mG\u001b[38;5;1mS\u001b[38;5;243mQ\u001b[38;5;243mQ\u001b[38;5;235mQ\u001b[38;5;239mp\u001b[38;5;233m·\u001b[38;5;234m·\u001b[38;5;234m···\u001b[38;5;101m·\u001b[38;5;137mp\u001b[38;5;178mp\u001b[38;5;178mb\u001b[38;5;179m·\u001b[38;5;137m·\u001b[38;5;234m·\u001b[38;5;234m···\u001b[38;5;242m·\u001b[38;5;239mD\u001b[38;5;236mG\u001b[38;5;233mG\u001b[38;5;243mQ\u001b[38;5;243mQQQQ\u001b[38;5;235mQ\u001b[38;5;242mp\u001b[38;5;234m·\u001b[38;5;234m····\u001b[38;5;233m·\u001b[38;5;243mQ\u001b[38;5;243mQQQ\u001b[38;5;242m·\u001b[38;5;234m·\u001b[38;5;234m··········\u001b[38;5;234m·\u001b[38;5;101m(\u001b[38;5;94mp\u001b[38;5;172mp\u001b[38;5;214mp\u001b[38;5;214mp\u001b[38;5;172ms\u001b[38;5;137mp\u001b[38;5;234m·\u001b[38;5;234m··············\n\u001b[38;5;234m··\u001b[38;5;95m)\u001b[38;5;237mS\u001b[38;5;235mG\u001b[38;5;233mG\u001b[38;5;243mQ\u001b[38;5;243mQQQ\u001b[38;5;238mb\u001b[38;5;234m·\u001b[38;5;137m·\u001b[38;5;178mp\u001b[38;5;214mp\u001b[38;5;179m·\u001b[38;5;101m·\u001b[38;5;234m·\u001b[38;5;234m··········\u001b[38;5;240mD\u001b[38;5;233mG\u001b[38;5;243mQ\u001b[38;5;243mQQQQ\u001b[38;5;239mp\u001b[38;5;234m·\u001b[38;5;234m···\u001b[38;5;242m(\u001b[38;5;243mQ\u001b[38;5;243mQQ\u001b[38;5;233mG\u001b[38;5;234m·\u001b[38;5;234m··········\u001b[38;5;233m·\u001b[38;5;236mS\u001b[38;5;243mQ\u001b[38;5;243mQQ\u001b[38;5;235mG\u001b[38;5;137m·\u001b[38;5;179m·\u001b[38;5;214mG\u001b[38;5;214mp\u001b[38;5;179mp\u001b[38;5;101m·\u001b[38;5;234m·\u001b[38;5;234m···········\n\u001b[38;5;234m······\u001b[38;5;233m·\u001b[38;5;242m)\u001b[38;5;236mS\u001b[38;5;243mQ\u001b[38;5;236mG\u001b[38;5;172mb\u001b[38;5;178mb\u001b[38;5;137m·\u001b[38;5;234m·\u001b[38;5;234m··············\u001b[38;5;233m·\u001b[38;5;238mS\u001b[38;5;243mQ\u001b[38;5;243mQQQQQ\u001b[38;5;235mQ\u001b[38;5;237mQ\u001b[38;5;236mQ\u001b[38;5;243mQ\u001b[38;5;243mQ\u001b[38;5;243mQQ\u001b[38;5;238mC\u001b[38;5;234m·\u001b[38;5;234m·········\u001b[38;5;242m(\u001b[38;5;243mQ\u001b[38;5;243mQQQ\u001b[38;5;234mG\u001b[38;5;233m·\u001b[38;5;234m·\u001b[38;5;234m··\u001b[38;5;101m·\u001b[38;5;137m·\u001b[38;5;178mG\u001b[38;5;178mp\u001b[38;5;137m·\u001b[38;5;234m·\u001b[38;5;234m·········\n\u001b[38;5;234m········\u001b[38;5;101m·\u001b[38;5;136mP\u001b[38;5;178mQ\u001b[38;5;58mS\u001b[38;5;236mb\u001b[38;5;234m·\u001b[38;5;234m···········\u001b[38;5;101m·\u001b[38;5;143m·\u001b[38;5;143mp\u001b[38;5;143mp\u001b[38;5;184mp\u001b[38;5;184mp\u001b[38;5;184mb\u001b[38;5;184ms\u001b[38;5;184mpQQQQppss\u001b[38;5;178ms\u001b[38;5;142mD\u001b[38;5;178mp\u001b[38;5;143mp\u001b[38;5;143mp\u001b[38;5;137m·\u001b[38;5;234m·\u001b[38;5;234m·\u001b[38;5;234m·····\u001b[38;5;236mS\u001b[38;5;243mQ\u001b[38;5;243mQQQ\u001b[38;5;242mb\u001b[38;5;234m·\u001b[38;5;234m······\u001b[38;5;101m·\u001b[38;5;137m·\u001b[38;5;178mG\u001b[38;5;137m·\u001b[38;5;234m·\u001b[38;5;234m·······\n\u001b[38;5;234m·······\u001b[38;5;137m(\u001b[38;5;178ms·\u001b[38;5;235mS\u001b[38;5;243mQ\u001b[38;5;243mQ\u001b[38;5;237mb\u001b[38;5;234m·\u001b[38;5;234m······\u001b[38;5;143m·\u001b[38;5;179mp\u001b[38;5;184mp\u001b[38;5;220mp\u001b[38;5;220mb\u001b[38;5;184mC\u001b[38;5;179m·\u001b[38;5;143m·\u001b[38;5;143m·\u001b[38;5;101m·\u001b[38;5;234m·\u001b[38;5;233m·\u001b[38;5;243mQ\u001b[38;5;243mQ\u001b[38;5;243mQQQQQQ\u001b[38;5;243mQ\u001b[38;5;234mG\u001b[38;5;101m·\u001b[38;5;143m·\u001b[38;5;143m·\u001b[38;5;178m·\u001b[38;5;184mG\u001b[38;5;220mG\u001b[38;5;220mp\u001b[38;5;184mp\u001b[38;5;178mp\u001b[38;5;143mp\u001b[38;5;101m·\u001b[38;5;234m·\u001b[38;5;234mS\u001b[38;5;243mQ\u001b[38;5;243mQQ\u001b[38;5;234mG\u001b[38;5;234m·\u001b[38;5;234m··········\u001b[38;5;137m·\u001b[38;5;137m·\u001b[38;5;101m·\u001b[38;5;234m·\u001b[38;5;234m·····\n\u001b[38;5;234m·····\u001b[38;5;101m·\u001b[38;5;179mC\u001b[38;5;178mC\u001b[38;5;101m·\u001b[38;5;234m·\u001b[38;5;234m·\u001b[38;5;236mS\u001b[38;5;243mQ\u001b[38;5;243mQ\u001b[38;5;235mQ\u001b[38;5;241mp\u001b[38;5;234m·\u001b[38;5;143m·\u001b[38;5;179mp\u001b[38;5;184mp\u001b[38;5;220mp\u001b[38;5;184mC\u001b[38;5;143m·\u001b[38;5;137m·\u001b[38;5;234m·\u001b[38;5;234m········\u001b[38;5;240m(\u001b[38;5;243mQ\u001b[38;5;243mQQQQQQQ\u001b[38;5;239mC\u001b[38;5;234m·\u001b[38;5;234m······\u001b[38;5;137m·\u001b[38;5;143m·\u001b[38;5;178m·\u001b[38;5;184mG\u001b[38;5;220mp\u001b[38;5;184ms\u001b[38;5;100mD\u001b[38;5;58mG\u001b[38;5;233mG\u001b[38;5;243mQ\u001b[38;5;234m·\u001b[38;5;234m········\u001b[38;5;233m·\u001b[38;5;233m··\u001b[38;5;234m·\u001b[38;5;234m·······\n\u001b[38;5;234m·····\u001b[38;5;137m·······\u001b[38;5;240m(\u001b[38;5;234mG\u001b[38;5;233mG\u001b[38;5;100mC\u001b[38;5;184ms\u001b[38;5;184mQ\u001b[38;5;136mp\u001b[38;5;101mp\u001b[38;5;234m·\u001b[38;5;234m·············\u001b[38;5;244mQ\u001b[38;5;243mQ\u001b[38;5;243mQQQQQQ\u001b[38;5;234m·\u001b[38;5;234m·\u001b[38;5;234m··········\u001b[38;5;233m·\u001b[38;5;58mQ\u001b[38;5;100mp\u001b[38;5;184mp\u001b[38;5;220mp\u001b[38;5;178mD\u001b[38;5;100mb\u001b[38;5;101mq\u001b[38;5;241mp\u001b[38;5;59mp\u001b[38;5;239mq\u001b[38;5;238mp\u001b[38;5;236mQ\u001b[38;5;244mQ\u001b[38;5;243mQ\u001b[38;5;243mQQQ\u001b[38;5;244mQ\u001b[38;5;241mp\u001b[38;5;234m·\u001b[38;5;234m·····\n\u001b[38;5;234m·············\u001b[38;5;143m(\u001b[38;5;220mp\u001b[38;5;184mC\u001b[38;5;58mG\u001b[38;5;243mQ\u001b[38;5;243mQQQ\u001b[38;5;235mQ\u001b[38;5;239mp\u001b[38;5;242m·\u001b[38;5;234m·\u001b[38;5;234m·········\u001b[38;5;238mS\u001b[38;5;243mQ\u001b[38;5;243mQQQQQQ\u001b[38;5;234m·\u001b[38;5;234m········\u001b[38;5;242m·\u001b[38;5;239mq\u001b[38;5;235mQ\u001b[38;5;243mQ\u001b[38;5;243mQQQ\u001b[38;5;244mQ\u001b[38;5;58mb\u001b[38;5;142mQ\u001b[38;5;184mp\u001b[38;5;184ms\u001b[38;5;3mS\u001b[38;5;234mG\u001b[38;5;243mQ\u001b[38;5;233mG\u001b[38;5;234mG\u001b[38;5;235mG\u001b[38;5;236mG\u001b[38;5;237mC\u001b[38;5;239mD\u001b[38;5;241m)\u001b[38;5;234m·\u001b[38;5;234m······\n\u001b[38;5;234m·········\u001b[38;5;234m·\u001b[38;5;242m)\u001b[38;5;101mp\u001b[38;5;184mp\u001b[38;5;142mp\u001b[38;5;238mp\u001b[38;5;238mp\u001b[38;5;239mp\u001b[38;5;59mp\u001b[38;5;59m)\u001b[38;5;239mD\u001b[38;5;236mG\u001b[38;5;243mQ\u001b[38;5;243mQQ\u001b[38;5;244mQ\u001b[38;5;237mb\u001b[38;5;242m·\u001b[38;5;234m·\u001b[38;5;234m······\u001b[38;5;242m·\u001b[38;5;243mQ\u001b[38;5;243mQQQQQQ\u001b[38;5;242mp\u001b[38;5;234m·\u001b[38;5;234m····\u001b[38;5;240ms\u001b[38;5;236mS\u001b[38;5;243mQ\u001b[38;5;243mQ\u001b[38;5;243mQQQQQQQQQQ\u001b[38;5;234mG\u001b[38;5;100mb\u001b[38;5;184m(\u001b[38;5;184mb\u001b[38;5;143mp\u001b[38;5;234m·\u001b[38;5;234m············\n\u001b[38;5;234m······\u001b[38;5;59ms\u001b[38;5;237mS\u001b[38;5;244mQ\u001b[38;5;233mG\u001b[38;5;100mb\u001b[38;5;142mp\u001b[38;5;244mQ\u001b[38;5;243mQ\u001b[38;5;243mQQQQQ\u001b[38;5;243mQ\u001b[38;5;236mQ\u001b[38;5;244mQ\u001b[38;5;243mQ\u001b[38;5;243mQQQQ\u001b[38;5;244mQ\u001b[38;5;240mp\u001b[38;5;234m·\u001b[38;5;234m·\u001b[38;5;233m·\u001b[38;5;65m·\u001b[38;5;65m·\u001b[38;5;65mp\u001b[38;5;237mS\u001b[38;5;22mG\u001b[38;5;22mGGGGG\u001b[38;5;235mG\u001b[38;5;65mp\u001b[38;5;233m·\u001b[38;5;233m·\u001b[38;5;240mq\u001b[38;5;244mQ\u001b[38;5;243mQ\u001b[38;5;243mQQQQQQQQ\u001b[38;5;233mG\u001b[38;5;235mG\u001b[38;5;238mC\u001b[38;5;240mD\u001b[38;5;233m·\u001b[38;5;234m·\u001b[38;5;234m···\u001b[38;5;143m·\u001b[38;5;179m·\u001b[38;5;143mp\u001b[38;5;234m·\u001b[38;5;234m··········\n\u001b[38;5;234m····\u001b[38;5;233m·\u001b[38;5;244mQ\u001b[38;5;243mQ\u001b[38;5;243mQ\u001b[38;5;233mG\u001b[38;5;142mQ\u001b[38;5;58mS\u001b[38;5;235mG\u001b[38;5;238mC\u001b[38;5;240mD\u001b[38;5;59mDD\u001b[38;5;239mD\u001b[38;5;238mS\u001b[38;5;236mG\u001b[38;5;235mG\u001b[38;5;234mG\u001b[38;5;243mQ\u001b[38;5;243mQQG\u001b[38;5;22mG\u001b[38;5;22mG\u001b[38;5;22mQQS\u001b[38;5;239mQ\u001b[38;5;65m·\u001b[38;5;65m·\u001b[38;5;233m·\u001b[38;5;242m(\u001b[38;5;244mQ\u001b[38;5;243mQ\u001b[38;5;243mQQQQ\u001b[38;5;244mQ\u001b[38;5;244mQ\u001b[38;5;244mQ\u001b[38;5;22mQ\u001b[38;5;22mQ\u001b[38;5;22mQ\u001b[38;5;2mQ\u001b[38;5;2mQbG\u001b[38;5;22mG\u001b[38;5;22mG\u001b[38;5;238mQ\u001b[38;5;240mD\u001b[38;5;242m·\u001b[38;5;233m·\u001b[38;5;234m·\u001b[38;5;234m······················\n\u001b[38;5;234m····\u001b[38;5;242m·\u001b[38;5;237mS\u001b[38;5;236mG\u001b[38;5;237mG\u001b[38;5;142mC\u001b[38;5;242m)\u001b[38;5;234m·\u001b[38;5;234m·\u001b[38;5;234m········\u001b[38;5;234m·\u001b[38;5;65ms\u001b[38;5;29mp\u001b[38;5;29mG\u001b[38;5;65mD\u001b[38;5;237mG\u001b[38;5;234mG\u001b[38;5;243mQ\u001b[38;5;243mQQQ\u001b[38;5;244mQ\u001b[38;5;236mQ\u001b[38;5;235mQ\u001b[38;5;243mQ\u001b[38;5;243mQQQQQQQQQQQQG\u001b[38;5;236mC\u001b[38;5;240mD\u001b[38;5;233m·\u001b[38;5;65m·\u001b[38;5;65m)\u001b[38;5;65mS\u001b[38;5;35mG\u001b[38;5;35mG\u001b[38;5;65mp\u001b[38;5;233m·\u001b[38;5;234m·\u001b[38;5;234m·····················\n\u001b[38;5;234m··················\u001b[38;5;65m·\u001b[38;5;35mS\u001b[38;5;35mG\u001b[38;5;65mD\u001b[38;5;233m·\u001b[38;5;234m·\u001b[38;5;234m···\u001b[38;5;233m·\u001b[38;5;239mD\u001b[38;5;235mG\u001b[38;5;243mQ\u001b[38;5;243mQQQQQQQQQQQQQQ\u001b[38;5;235mG\u001b[38;5;240mD\u001b[38;5;234m·\u001b[38;5;234m·\u001b[38;5;234m·······\u001b[38;5;65m·\u001b[38;5;65mD\u001b[38;5;65mG\u001b[38;5;65mp\u001b[38;5;234m·\u001b[38;5;234m···················\n\u001b[38;5;234m················\u001b[38;5;65m·\u001b[38;5;65mG\u001b[38;5;65m)\u001b[38;5;234m·\u001b[38;5;234m·\u001b[38;5;234m·········\u001b[38;5;233m·\u001b[38;5;240mD\u001b[38;5;235mG\u001b[38;5;243mQ\u001b[38;5;243mQQQQQQQQQ\u001b[38;5;234mG\u001b[38;5;240mD\u001b[38;5;234m·\u001b[38;5;234m·············\u001b[38;5;233m·\u001b[38;5;65m)\u001b[38;5;234m·\u001b[38;5;234m··················\n\u001b[38;5;234m················\u001b[38;5;233m·················\u001b[38;5;236mS\u001b[38;5;243mQ\u001b[38;5;233mG\u001b[38;5;235mG\u001b[38;5;236mG\u001b[38;5;23mG\u001b[38;5;23mD\u001b[38;5;23mD\u001b[38;5;29mQ\u001b[38;5;29mp\u001b[38;5;72mb\u001b[38;5;72mp\u001b[38;5;72mpp\u001b[38;5;72mp\u001b[38;5;66mp\u001b[38;5;66mp\u001b[38;5;234m·\u001b[38;5;234m·\u001b[38;5;234m····························\n\u001b[38;5;234m······························\u001b[38;5;66m·\u001b[38;5;66mp\u001b[38;5;72mp\u001b[38;5;65mQ\u001b[38;5;23mp\u001b[38;5;23mS\u001b[38;5;236mQ\u001b[38;5;244mQ\u001b[38;5;243mQ\u001b[38;5;243mQQ\u001b[38;5;243mQ\u001b[38;5;59mb\u001b[38;5;234m·\u001b[38;5;234m··\u001b[38;5;66m·\u001b[38;5;66m·\u001b[38;5;66m·\u001b[38;5;66m·\u001b[38;5;72m·\u001b[38;5;72mG\u001b[38;5;72mb\u001b[38;5;66m·\u001b[38;5;234m·\u001b[38;5;234m·························\n\u001b[38;5;234m··························\u001b[38;5;66m·\u001b[38;5;66m·\u001b[38;5;66m··\u001b[38;5;66m·\u001b[38;5;234m·\u001b[38;5;234m·\u001b[38;5;235mS\u001b[38;5;243mQ\u001b[38;5;243mQQQQQQQ\u001b[38;5;233m·\u001b[38;5;234m·\u001b[38;5;234m·········\u001b[38;5;234m···························\n\u001b[38;5;234m·\u001b[38;5;234m························\u001b[38;5;234m·······\u001b[38;5;237mS\u001b[38;5;243mQ\u001b[38;5;243mQQQQQQQQ\u001b[38;5;59mC\u001b[38;5;234m·\u001b[38;5;234m····································\n\u001b[38;5;234m·······························\u001b[38;5;233m·\u001b[38;5;243mQ\u001b[38;5;243mQQQQQQQQQ\u001b[38;5;236mb\u001b[38;5;234m·\u001b[38;5;234m····································\n\u001b[38;5;234m·······························\u001b[38;5;242m(\u001b[38;5;243mQ\u001b[38;5;243mQQQQQQQQQQ\u001b[38;5;242mp\u001b[38;5;234m·\u001b[38;5;234m···································\n\u001b[38;5;234m······························\u001b[38;5;233m·\u001b[38;5;234mS\u001b[38;5;243mQ\u001b[38;5;243mQQQQQQQQQQ\u001b[38;5;243mQ\u001b[38;5;242mp\u001b[38;5;234m·\u001b[38;5;234m··································\n\u001b[38;5;234m·····························\u001b[38;5;233m·\u001b[38;5;234mS\u001b[38;5;243mQ\u001b[38;5;243mQQQQQQQQQQQQ\u001b[38;5;243mQ\u001b[38;5;234m·\u001b[38;5;234m··································\n\u001b[38;5;234m····························\u001b[38;5;242m(\u001b[38;5;244mQ\u001b[38;5;243mQ\u001b[38;5;243mQQ\u001b[38;5;234mG\u001b[38;5;235mG\u001b[38;5;23mG\u001b[38;5;24mG\u001b[38;5;24mD\u001b[38;5;25mP\u001b[38;5;31mb\u001b[38;5;31mbb\u001b[38;5;24mD\u001b[38;5;24mD\u001b[38;5;24mG\u001b[38;5;67mp\u001b[38;5;67mp\u001b[38;5;234m·\u001b[38;5;234m·\u001b[38;5;234m·······························\n\u001b[38;5;234m···························\u001b[38;5;242m(\u001b[38;5;233mG\u001b[38;5;23mG\u001b[38;5;24mG\u001b[38;5;31mb\u001b[38;5;32mb\u001b[38;5;32mG\u001b[38;5;31mC\u001b[38;5;67m·\u001b[38;5;67m·\u001b[38;5;66m·\u001b[38;5;66m·\u001b[38;5;66m·\u001b[38;5;234m·\u001b[38;5;234m····\u001b[38;5;234m·\u001b[38;5;234m··································\n\u001b[38;5;234m··························\u001b[38;5;234m·\u001b[38;5;67mG\u001b[38;5;67m)\u001b[38;5;66m·\u001b[38;5;234m·\u001b[38;5;234m·\u001b[38;5;234m················································\n\u001b[38;5;234m·······························\u001b[38;5;65mALBEROBOTICS\u001b[38;5;234m·····································\n\u001b[38;5;234m················································································\u001b[0m\n"
     ]
    }
   ],
   "source": [
    "## Parameters:\n",
    "# path to test-pdo\n",
    "cmd0 = os.path.expanduser('~/ecat_dev/ec_master_app/build/examples/motor-calib/test-pdo/test-pdo')\n",
    "# path to phase-calib to test phase angle and log data\n",
    "cmd1 = os.path.expanduser('~/ecat_dev/ec_master_app/build/examples/motor-calib/phase-calib/phase-calib')\n",
    "# path to set-phase to set the optimized value to the motor\n",
    "cmd1b = os.path.expanduser('~/ecat_dev/ec_master_app/build/examples/motor-calib/set-phase/set-phase')\n",
    "# path to ripple-calib to test test ripple and positionl offset\n",
    "cmd2 = os.path.expanduser('~/ecat_dev/ec_master_app/build/examples/motor-calib/torque-calib/torque-calib')\n",
    "# path to set-phase to set the optimized value to the motor\n",
    "cmd2b = os.path.expanduser('~/ecat_dev/ec_master_app/build/examples/motor-calib/set-torque/set-torque')\n",
    "# path to ripple-calib to test test ripple and positionl offset\n",
    "cmd3 = os.path.expanduser('~/ecat_dev/ec_master_app/build/examples/motor-calib/ripple-calib/ripple-calib')\n",
    "# path to friction-calib for friction identification\n",
    "cmd4 = os.path.expanduser('~/ecat_dev/ec_master_app/build/examples/motor-calib/friction-calib/friction-calib')\n",
    "# path to inertia-calib for inertia identification\n",
    "cmd4b = os.path.expanduser('~/ecat_dev/ec_master_app/build/examples/motor-calib/inertia-calib/inertia-calib')\n",
    "# path to the configuration file for the motor and the test variables\n",
    "config_file = os.path.expanduser('~/ecat_dev/ec_master_app/examples/motor-calib/config.yaml')\n",
    "\n",
    "\n",
    "#print logo\n",
    "plot_utils.print_alberobotics()"
   ]
  },
  {
   "source": [
    "# Test PDO"
   ],
   "cell_type": "markdown",
   "metadata": {}
  },
  {
   "cell_type": "code",
   "execution_count": null,
   "metadata": {},
   "outputs": [],
   "source": [
    "## test pdo\n",
    "print(plot_utils.bcolors.OKBLUE + \"[i] Starting test-pdo\" + plot_utils.bcolors.ENDC)\n",
    "if os.system(cmd0 + ' ' + config_file):\n",
    "    sys.exit(plot_utils.bcolors.FAIL + u'[\\u2717] Error during test-pdo' + plot_utils.bcolors.ENDC)\n",
    "print(plot_utils.bcolors.OKBLUE + \"[i] Ended test-pdo successfully\" + plot_utils.bcolors.ENDC)"
   ]
  },
  {
   "cell_type": "code",
   "execution_count": null,
   "metadata": {},
   "outputs": [],
   "source": [
    "#get updated yaml file\n",
    "list_of_files = glob.glob('/logs/**/*_results.yaml', recursive=True)\n",
    "config_file = max(list_of_files, key=os.path.getctime)\n",
    "print(config_file)"
   ]
  },
  {
   "source": [
    "# Phase calib"
   ],
   "cell_type": "markdown",
   "metadata": {}
  },
  {
   "cell_type": "code",
   "execution_count": null,
   "metadata": {},
   "outputs": [],
   "source": [
    "## run test\n",
    "print(plot_utils.bcolors.OKBLUE + \"[i] Starting phase-calib\" + plot_utils.bcolors.ENDC)\n",
    "if os.system(cmd1 + ' ' + config_file):\n",
    "    sys.exit(plot_utils.bcolors.FAIL + u'[\\u2717] Error during phase-calib' + plot_utils.bcolors.ENDC)\n",
    "print(plot_utils.bcolors.OKBLUE + \"[i] Ended phase-calib successfully\" + plot_utils.bcolors.ENDC)"
   ]
  },
  {
   "cell_type": "code",
   "execution_count": null,
   "metadata": {},
   "outputs": [],
   "source": [
    "# process extracted data\n",
    "print(plot_utils.bcolors.OKBLUE + \"[i] Processing phase data\" + plot_utils.bcolors.ENDC)\n",
    "config_file = process_phase.process(yaml_file=config_file, plot_all=False)"
   ]
  },
  {
   "cell_type": "code",
   "execution_count": null,
   "metadata": {},
   "outputs": [],
   "source": [
    "## Upload to motor the best phase angle\n",
    "print(plot_utils.bcolors.OKBLUE + \"[i] Sending phase angle to motor using set-phase\" +  plot_utils.bcolors.ENDC)\n",
    "if os.system(cmd1b + ' ' + config_file):\n",
    "    sys.exit(plot_utils.bcolors.FAIL + u'[\\u2717] Error during set-phase' + plot_utils.bcolors.ENDC)\n",
    "print(plot_utils.bcolors.OKBLUE + \"[i] Ended set-phase successfully\" + plot_utils.bcolors.ENDC)"
   ]
  },
  {
   "source": [
    "# Torque calib"
   ],
   "cell_type": "markdown",
   "metadata": {}
  },
  {
   "cell_type": "code",
   "execution_count": null,
   "metadata": {},
   "outputs": [],
   "source": [
    "# prompt user to connect loadcell before continuing\n",
    "print(\"For torsion bar stiffness and torque constant calibration, the loadcell is needed.\")\n",
    "while not prompt_user(\"\"\"Before continuing make sure the loadcell is properly connected and the motor's flange is in contact with it.\n",
    "Continue?\"\"\"):\n",
    "    pass"
   ]
  },
  {
   "cell_type": "code",
   "execution_count": null,
   "metadata": {},
   "outputs": [],
   "source": [
    "## test ripple and position dependant torque\n",
    "print(plot_utils.bcolors.OKBLUE + \"[i] Starting torque-calib\" + plot_utils.bcolors.ENDC)\n",
    "if os.system(cmd2 + ' ' + config_file):\n",
    "    sys.exit(plot_utils.bcolors.FAIL + u'[\\u2717] Error during torque-calib' + plot_utils.bcolors.ENDC)\n",
    "print(plot_utils.bcolors.OKBLUE + \"[i] Ended torque-calib successfully\" + plot_utils.bcolors.ENDC)\n",
    "\n"
   ]
  },
  {
   "cell_type": "code",
   "execution_count": 5,
   "metadata": {},
   "outputs": [],
   "source": [
    "config_file ='/logs/ALE01-ELE01-H4236/2021-05-17--09-52-01/ALE01-ELE01-H4236_2021-05-17--09-52-01_results.yaml'"
   ]
  },
  {
   "cell_type": "code",
   "execution_count": 2,
   "metadata": {
    "tags": []
   },
   "outputs": [
    {
     "output_type": "stream",
     "name": "stdout",
     "text": [
      "\u001b[94m[i] Processing torque data\u001b[0m\n",
      "[i] Using yaml_file: /logs/ALE01-ELE01-H4236/2021-05-17--09-52-01/ALE01-ELE01-H4236_2021-05-17--09-52-01_results.yaml\n",
      "[i] Reading log_file: /logs/ALE01-ELE01-H4236/2021-05-17--09-52-01/logs/ALE01-ELE01-H4236_2021-05-17--09-52-01_torque-calib.log\n",
      "loaded  78082  points\n",
      "[i] Processing data\n",
      "Saving graph as: /logs/ALE01-ELE01-H4236/2021-05-17--09-52-01/images/ALE01-ELE01-H4236_2021-05-17--09-52-01_torque-calib1.png\n",
      "SDO                    :5685.474\tNRMSE:0.01411\n",
      "sklean.LinearRegression:5831.113\tNRMSE:0.00649\n",
      "scipy.ord (linear)     :5832.289\tNRMSE:0.00649\n",
      "\u001b[92m[✓] Result: Torsion_bar_stiff = 5832.288579239318\u001b[0m\n",
      "Saving graph as: /logs/ALE01-ELE01-H4236/2021-05-17--09-52-01/images/ALE01-ELE01-H4236_2021-05-17--09-52-01_torque-calib2.png\n",
      "SDO                :3.22  -2.28  \t NRMSE:0.05351\n",
      "scipy.ord (linear) :3.39  -1.60  \t NRMSE:0.01585\n",
      "scipy.ord (poly2)  :-0.06  3.87  -2.14\t NRMSE:0.00774\n",
      "Saving graph as: /logs/ALE01-ELE01-H4236/2021-05-17--09-52-01/images/ALE01-ELE01-H4236_2021-05-17--09-52-01_torque-calib3.png\n",
      "Saving results to: /logs/ALE01-ELE01-H4236/2021-05-17--09-52-01/ALE01-ELE01-H4236_2021-05-17--09-52-01_results.yaml\n"
     ]
    }
   ],
   "source": [
    "# process extracted data\n",
    "print(plot_utils.bcolors.OKBLUE + \"[i] Processing torque data\" + plot_utils.bcolors.ENDC)\n",
    "config_file = process_torque.process(yaml_file=config_file, plot_all=False)"
   ]
  },
  {
   "cell_type": "code",
   "execution_count": 6,
   "metadata": {},
   "outputs": [
    {
     "output_type": "stream",
     "name": "stdout",
     "text": [
      "\u001b[94m[i] Sending torsion bar stiffness to motor using set-torque\u001b[0m\n"
     ]
    },
    {
     "output_type": "error",
     "ename": "SystemExit",
     "evalue": "\u001b[91m[✗] Error during set-torque\u001b[0m",
     "traceback": [
      "An exception has occurred, use %tb to see the full traceback.\n",
      "\u001b[0;31mSystemExit\u001b[0m\u001b[0;31m:\u001b[0m \u001b[91m[✗] Error during set-torque\u001b[0m\n"
     ]
    }
   ],
   "source": [
    "# Upload to motor the updated torsion bar stiffness (and torque constant?)\n",
    "print(plot_utils.bcolors.OKBLUE + \"[i] Sending torsion bar stiffness to motor using set-torque\" +  plot_utils.bcolors.ENDC)\n",
    "if os.system(cmd2b + ' ' + config_file):\n",
    "    sys.exit(plot_utils.bcolors.FAIL + u'[\\u2717] Error during set-torque' + plot_utils.bcolors.ENDC)\n",
    "print(plot_utils.bcolors.OKBLUE + \"[i] Ended set-torque successfully\" + plot_utils.bcolors.ENDC)\n"
   ]
  },
  {
   "cell_type": "code",
   "execution_count": null,
   "metadata": {},
   "outputs": [],
   "source": []
  },
  {
   "source": [
    "# Ripple calib"
   ],
   "cell_type": "markdown",
   "metadata": {}
  },
  {
   "cell_type": "code",
   "execution_count": null,
   "metadata": {},
   "outputs": [],
   "source": [
    "# prompt user to disconnect loadcell before continuing\n",
    "print(\"For ripple and position dependant torque, the motor must be free to move.\")\n",
    "while not prompt_user(\"\"\"Before continuing make sure the motor's output flange has nothing connected.\n",
    "Continue?\"\"\"):\n",
    "    pass"
   ]
  },
  {
   "cell_type": "code",
   "execution_count": null,
   "metadata": {},
   "outputs": [],
   "source": [
    "## run test\n",
    "print(plot_utils.bcolors.OKBLUE + \"[i] Starting ripple-calib\" + plot_utils.bcolors.ENDC)\n",
    "if os.system(cmd4 + ' ' + config_file):\n",
    "    sys.exit(plot_utils.bcolors.FAIL + u'[\\u2717] Error during ripple-calib' + plot_utils.bcolors.ENDC)\n",
    "print(plot_utils.bcolors.OKBLUE + \"[i] Ended ripple-calib successfully\" + plot_utils.bcolors.ENDC)"
   ]
  },
  {
   "cell_type": "code",
   "execution_count": 7,
   "metadata": {},
   "outputs": [
    {
     "output_type": "stream",
     "name": "stdout",
     "text": [
      "\u001b[94m[i] Processing ripple data\u001b[0m\n",
      "[i] Using yaml_file: /logs/ALE01-ELE01-H4236/2021-05-17--09-52-01/ALE01-ELE01-H4236_2021-05-17--09-52-01_results.yaml\n",
      "[i] Reading log_file: /logs/ALE01-ELE01-H4236/2021-05-17--09-52-01/logs/ALE01-ELE01-H4236_2021-05-17--09-52-01_ripple-calib.log\n",
      "[i] Processing data\n",
      "/usr/local/lib/python3.6/dist-packages/scipy/optimize/minpack.py:829: OptimizeWarning: Covariance of the parameters could not be estimated\n",
      "  category=OptimizeWarning)\n",
      "1 sin:0.1711531040077496 + 0.025902543491665132*sin(1.0*t + -0.9812679261927987)\n",
      "2 sin:0.17158509745537107 + 0.02657754047467386*sin(1.0*t + -0.9980738932966439) + 0.18601196903650458*sin(2.0*t + -2.170181115215661)\n",
      "3 sin:0.17157426018211375 + 0.02655941595036997*sin(1.0*t + -0.9975733414494907) + 0.18603583104780252*sin(2.0*t + -2.17009893637896) + -0.008647304191893433*sin(4.0*t + -0.6048907174785988)\n",
      "RMSE:[2.1827059030326064, 1.0040430583904554, 1.0]\n",
      "Saving graph as: /logs/ALE01-ELE01-H4236/2021-05-17--09-52-01/images/ALE01-ELE01-H4236_2021-05-17--09-52-01_ripple-calib.png\n",
      "Adding result to: /logs/ALE01-ELE01-H4236/2021-05-17--09-52-01/ALE01-ELE01-H4236_2021-05-17--09-52-01_results.yaml\n"
     ]
    }
   ],
   "source": [
    "# process extracted data\n",
    "print(plot_utils.bcolors.OKBLUE + \"[i] Processing ripple data\" + plot_utils.bcolors.ENDC)\n",
    "config_file = process_ripple.process(yaml_file=config_file, plot_all=False)"
   ]
  },
  {
   "source": [
    "# Friction and Inertia identification"
   ],
   "cell_type": "markdown",
   "metadata": {}
  },
  {
   "source": [
    "## run friction identification test\n",
    "print(plot_utils.bcolors.OKBLUE + \"[i] Starting friction-calib\" + plot_utils.bcolors.ENDC)\n",
    "if os.system(cmd5 + ' ' + config_file):\n",
    "    sys.exit(plot_utils.bcolors.FAIL + u'[\\u2717] Error during friction-calib' + plot_utils.bcolors.ENDC)\n",
    "print(plot_utils.bcolors.OKBLUE + \"[i] Ended friction-calib successfully\" + plot_utils.bcolors.ENDC)"
   ],
   "cell_type": "code",
   "metadata": {},
   "execution_count": null,
   "outputs": []
  },
  {
   "cell_type": "code",
   "execution_count": null,
   "metadata": {},
   "outputs": [],
   "source": [
    "## run inertia identification test\n",
    "print(plot_utils.bcolors.OKBLUE + \"[i] Starting inertia-calib\" + plot_utils.bcolors.ENDC)\n",
    "if os.system(cmd6 + ' ' + config_file):\n",
    "    sys.exit(plot_utils.bcolors.FAIL + u'[\\u2717] Error during inertia-calib' + plot_utils.bcolors.ENDC)\n",
    "move_utils.move_log(yaml_file=config_file)\n",
    "print(plot_utils.bcolors.OKBLUE + \"[i] Ended inertia-calib successfully\" + plot_utils.bcolors.ENDC)"
   ]
  },
  {
   "cell_type": "code",
   "execution_count": null,
   "metadata": {},
   "outputs": [],
   "source": [
    "move_utils.move_log(yaml_file=config_file)\n",
    "print(plot_utils.bcolors.OKBLUE + \"[i] Fetched inertia-calib log\" + plot_utils.bcolors.ENDC"
   ]
  },
  {
   "cell_type": "code",
   "execution_count": 8,
   "metadata": {},
   "outputs": [
    {
     "output_type": "stream",
     "name": "stdout",
     "text": [
      "\u001b[94m[i] Processing friction and inertia data\u001b[0m\n[i] Using yaml_file: /logs/ALE01-ELE01-H4236/2021-05-17--09-52-01/ALE01-ELE01-H4236_2021-05-17--09-52-01_results.yaml\n"
     ]
    },
    {
     "output_type": "error",
     "ename": "FileNotFoundError",
     "evalue": "[Errno 2] No such file or directory: '/logs/ALE01-ELE01-H4236/2021-05-17--09-52-01/logs/ALE01-ELE01-H4236_2021-05-17--09-52-01_inertia-calib.log'",
     "traceback": [
      "\u001b[0;31m---------------------------------------------------------------------------\u001b[0m",
      "\u001b[0;31mFileNotFoundError\u001b[0m                         Traceback (most recent call last)",
      "\u001b[0;32m<ipython-input-8-85979ef2c4f3>\u001b[0m in \u001b[0;36m<module>\u001b[0;34m\u001b[0m\n\u001b[1;32m      1\u001b[0m \u001b[0;31m# process extracted data\u001b[0m\u001b[0;34m\u001b[0m\u001b[0;34m\u001b[0m\u001b[0;34m\u001b[0m\u001b[0m\n\u001b[1;32m      2\u001b[0m \u001b[0mprint\u001b[0m\u001b[0;34m(\u001b[0m\u001b[0mplot_utils\u001b[0m\u001b[0;34m.\u001b[0m\u001b[0mbcolors\u001b[0m\u001b[0;34m.\u001b[0m\u001b[0mOKBLUE\u001b[0m \u001b[0;34m+\u001b[0m \u001b[0;34m\"[i] Processing friction and inertia data\"\u001b[0m \u001b[0;34m+\u001b[0m \u001b[0mplot_utils\u001b[0m\u001b[0;34m.\u001b[0m\u001b[0mbcolors\u001b[0m\u001b[0;34m.\u001b[0m\u001b[0mENDC\u001b[0m\u001b[0;34m)\u001b[0m\u001b[0;34m\u001b[0m\u001b[0;34m\u001b[0m\u001b[0m\n\u001b[0;32m----> 3\u001b[0;31m \u001b[0mprocess_friction\u001b[0m\u001b[0;34m.\u001b[0m\u001b[0mprocess\u001b[0m\u001b[0;34m(\u001b[0m\u001b[0myaml_file\u001b[0m\u001b[0;34m=\u001b[0m\u001b[0mconfig_file\u001b[0m\u001b[0;34m,\u001b[0m \u001b[0mplot_all\u001b[0m\u001b[0;34m=\u001b[0m\u001b[0;32mFalse\u001b[0m\u001b[0;34m)\u001b[0m\u001b[0;34m\u001b[0m\u001b[0;34m\u001b[0m\u001b[0m\n\u001b[0m",
      "\u001b[0;32m~/ecat_dev/motor_calibration/utils/process_friction.py\u001b[0m in \u001b[0;36mprocess\u001b[0;34m(yaml_file, verbose, min_gamma, max_gamma, min_const_vel, max_const_vel, const_vel_lowpass_cutoff, run_simulation, save_cvs, plot_all)\u001b[0m\n\u001b[1;32m    114\u001b[0m     \u001b[0mmotor_df\u001b[0m\u001b[0;34m.\u001b[0m\u001b[0mdf\u001b[0m\u001b[0;34m[\u001b[0m\u001b[0;34m'lhs'\u001b[0m\u001b[0;34m]\u001b[0m \u001b[0;34m=\u001b[0m \u001b[0mcons_vel_trj_lhs\u001b[0m\u001b[0;34m\u001b[0m\u001b[0;34m\u001b[0m\u001b[0m\n\u001b[1;32m    115\u001b[0m \u001b[0;34m\u001b[0m\u001b[0m\n\u001b[0;32m--> 116\u001b[0;31m     \u001b[0mmultisine_data_dict\u001b[0m \u001b[0;34m=\u001b[0m \u001b[0mMotorDf\u001b[0m\u001b[0;34m.\u001b[0m\u001b[0mMultisineTrj\u001b[0m\u001b[0;34m(\u001b[0m\u001b[0mmultisine_log_fname\u001b[0m\u001b[0;34m)\u001b[0m\u001b[0;34m.\u001b[0m\u001b[0mto_dict\u001b[0m\u001b[0;34m(\u001b[0m\u001b[0;34m)\u001b[0m\u001b[0;34m\u001b[0m\u001b[0;34m\u001b[0m\u001b[0m\n\u001b[0m\u001b[1;32m    117\u001b[0m     multisine_trj = MultisineTrjInfo(freq0=motor_yaml['calib_inertia']['freq0'],\n\u001b[1;32m    118\u001b[0m                                      \u001b[0mnum_of_sinusoids\u001b[0m\u001b[0;34m=\u001b[0m\u001b[0mlen\u001b[0m\u001b[0;34m(\u001b[0m\u001b[0mmotor_yaml\u001b[0m\u001b[0;34m[\u001b[0m\u001b[0;34m'calib_inertia'\u001b[0m\u001b[0;34m]\u001b[0m\u001b[0;34m[\u001b[0m\u001b[0;34m'A'\u001b[0m\u001b[0;34m]\u001b[0m\u001b[0;34m)\u001b[0m\u001b[0;34m,\u001b[0m\u001b[0;34m\u001b[0m\u001b[0;34m\u001b[0m\u001b[0m\n",
      "\u001b[0;32m~/ecat_dev/motor_calibration/friction_calibration_tool/utils_module/logimport.py\u001b[0m in \u001b[0;36mMultisineTrj\u001b[0;34m(cls, log_fname)\u001b[0m\n\u001b[1;32m     51\u001b[0m     \u001b[0;34m@\u001b[0m\u001b[0mclassmethod\u001b[0m\u001b[0;34m\u001b[0m\u001b[0;34m\u001b[0m\u001b[0m\n\u001b[1;32m     52\u001b[0m     \u001b[0;32mdef\u001b[0m \u001b[0mMultisineTrj\u001b[0m\u001b[0;34m(\u001b[0m\u001b[0mcls\u001b[0m\u001b[0;34m,\u001b[0m \u001b[0mlog_fname\u001b[0m\u001b[0;34m)\u001b[0m\u001b[0;34m:\u001b[0m\u001b[0;34m\u001b[0m\u001b[0;34m\u001b[0m\u001b[0m\n\u001b[0;32m---> 53\u001b[0;31m         \u001b[0;32mreturn\u001b[0m \u001b[0mcls\u001b[0m\u001b[0;34m(\u001b[0m\u001b[0mdict_from_multisine_trj_log\u001b[0m\u001b[0;34m(\u001b[0m\u001b[0mlog_fname\u001b[0m\u001b[0;34m)\u001b[0m\u001b[0;34m)\u001b[0m\u001b[0;34m\u001b[0m\u001b[0;34m\u001b[0m\u001b[0m\n\u001b[0m\u001b[1;32m     54\u001b[0m \u001b[0;34m\u001b[0m\u001b[0m\n\u001b[1;32m     55\u001b[0m     \u001b[0;34m@\u001b[0m\u001b[0mclassmethod\u001b[0m\u001b[0;34m\u001b[0m\u001b[0;34m\u001b[0m\u001b[0m\n",
      "\u001b[0;32m~/ecat_dev/motor_calibration/friction_calibration_tool/utils_module/logimport.py\u001b[0m in \u001b[0;36mdict_from_multisine_trj_log\u001b[0;34m(fname)\u001b[0m\n\u001b[1;32m      7\u001b[0m \u001b[0;34m\u001b[0m\u001b[0m\n\u001b[1;32m      8\u001b[0m \u001b[0;32mdef\u001b[0m \u001b[0mdict_from_multisine_trj_log\u001b[0m\u001b[0;34m(\u001b[0m\u001b[0mfname\u001b[0m\u001b[0;34m)\u001b[0m\u001b[0;34m:\u001b[0m\u001b[0;34m\u001b[0m\u001b[0;34m\u001b[0m\u001b[0m\n\u001b[0;32m----> 9\u001b[0;31m     \u001b[0mtime\u001b[0m \u001b[0;34m=\u001b[0m \u001b[0;34m[\u001b[0m\u001b[0;34m(\u001b[0m\u001b[0mfloat\u001b[0m\u001b[0;34m(\u001b[0m\u001b[0mx\u001b[0m\u001b[0;34m.\u001b[0m\u001b[0msplit\u001b[0m\u001b[0;34m(\u001b[0m\u001b[0;34m'\\t'\u001b[0m\u001b[0;34m)\u001b[0m\u001b[0;34m[\u001b[0m\u001b[0;36m0\u001b[0m\u001b[0;34m]\u001b[0m\u001b[0;34m)\u001b[0m\u001b[0;34m)\u001b[0m \u001b[0;34m/\u001b[0m \u001b[0;36m1000000000\u001b[0m \u001b[0;32mfor\u001b[0m \u001b[0mx\u001b[0m \u001b[0;32min\u001b[0m \u001b[0mopen\u001b[0m\u001b[0;34m(\u001b[0m\u001b[0mfname\u001b[0m\u001b[0;34m)\u001b[0m\u001b[0;34m.\u001b[0m\u001b[0mreadlines\u001b[0m\u001b[0;34m(\u001b[0m\u001b[0;34m)\u001b[0m\u001b[0;34m]\u001b[0m\u001b[0;34m\u001b[0m\u001b[0;34m\u001b[0m\u001b[0m\n\u001b[0m\u001b[1;32m     10\u001b[0m     \u001b[0mpos_ref\u001b[0m \u001b[0;34m=\u001b[0m \u001b[0;34m[\u001b[0m\u001b[0mfloat\u001b[0m\u001b[0;34m(\u001b[0m\u001b[0mx\u001b[0m\u001b[0;34m.\u001b[0m\u001b[0msplit\u001b[0m\u001b[0;34m(\u001b[0m\u001b[0;34m'\\t'\u001b[0m\u001b[0;34m)\u001b[0m\u001b[0;34m[\u001b[0m\u001b[0;36m1\u001b[0m\u001b[0;34m]\u001b[0m\u001b[0;34m)\u001b[0m \u001b[0;32mfor\u001b[0m \u001b[0mx\u001b[0m \u001b[0;32min\u001b[0m \u001b[0mopen\u001b[0m\u001b[0;34m(\u001b[0m\u001b[0mfname\u001b[0m\u001b[0;34m)\u001b[0m\u001b[0;34m.\u001b[0m\u001b[0mreadlines\u001b[0m\u001b[0;34m(\u001b[0m\u001b[0;34m)\u001b[0m\u001b[0;34m]\u001b[0m\u001b[0;34m\u001b[0m\u001b[0;34m\u001b[0m\u001b[0m\n\u001b[1;32m     11\u001b[0m     \u001b[0mlink_pos\u001b[0m \u001b[0;34m=\u001b[0m \u001b[0;34m[\u001b[0m\u001b[0mfloat\u001b[0m\u001b[0;34m(\u001b[0m\u001b[0mx\u001b[0m\u001b[0;34m.\u001b[0m\u001b[0msplit\u001b[0m\u001b[0;34m(\u001b[0m\u001b[0;34m'\\t'\u001b[0m\u001b[0;34m)\u001b[0m\u001b[0;34m[\u001b[0m\u001b[0;36m2\u001b[0m\u001b[0;34m]\u001b[0m\u001b[0;34m)\u001b[0m \u001b[0;32mfor\u001b[0m \u001b[0mx\u001b[0m \u001b[0;32min\u001b[0m \u001b[0mopen\u001b[0m\u001b[0;34m(\u001b[0m\u001b[0mfname\u001b[0m\u001b[0;34m)\u001b[0m\u001b[0;34m.\u001b[0m\u001b[0mreadlines\u001b[0m\u001b[0;34m(\u001b[0m\u001b[0;34m)\u001b[0m\u001b[0;34m]\u001b[0m\u001b[0;34m\u001b[0m\u001b[0;34m\u001b[0m\u001b[0m\n",
      "\u001b[0;31mFileNotFoundError\u001b[0m: [Errno 2] No such file or directory: '/logs/ALE01-ELE01-H4236/2021-05-17--09-52-01/logs/ALE01-ELE01-H4236_2021-05-17--09-52-01_inertia-calib.log'"
     ]
    }
   ],
   "source": [
    "# process extracted data\n",
    "print(plot_utils.bcolors.OKBLUE + \"[i] Processing friction and inertia data\" + plot_utils.bcolors.ENDC)\n",
    "process_friction.process(yaml_file=config_file, plot_all=False)"
   ]
  },
  {
   "cell_type": "code",
   "execution_count": null,
   "metadata": {},
   "outputs": [],
   "source": [
    "# ## TODO: Frequency response calibration\n",
    "# # prompt user to fully lock the motor before continuing\n",
    "# print(\"For frequency response calibration, the motor must be fully locked\")\n",
    "# while not prompt_user(\"\"\"Before continuing make sure the motor's output flange is properly locked.\n",
    "# Continue?\"\"\"):\n",
    "#     pass"
   ]
  },
  {
   "cell_type": "code",
   "execution_count": null,
   "metadata": {},
   "outputs": [],
   "source": [
    "# # TODO: run test\n",
    "# print(plot_utils.bcolors.OKBLUE + \"[i] Starting frequency-calib\" + plot_utils.bcolors.ENDC)\n",
    "# if os.system(cmd5 + ' ' + config_file):\n",
    "#     sys.exit(plot_utils.bcolors.FAIL + u'[\\u2717] Error during frequency-calib' + plot_utils.bcolors.ENDC)\n",
    "# move_utils.move_log(yaml_file=config_file)\n",
    "# print(plot_utils.bcolors.OKBLUE + \"[i] Ended frequency-calib successfully\" + plot_utils.bcolors.ENDC)"
   ]
  },
  {
   "cell_type": "code",
   "execution_count": null,
   "metadata": {},
   "outputs": [],
   "source": [
    "# # TODO: process extracted data\n",
    "# print(plot_utils.bcolors.OKBLUE + \"[i] Processing frequency response data\" + plot_utils.bcolors.ENDC)\n",
    "# process_friction.process(yaml_file=config_file, plot_all=False)"
   ]
  },
  {
   "cell_type": "code",
   "execution_count": null,
   "metadata": {},
   "outputs": [],
   "source": [
    "print(plot_utils.bcolors.OKGREEN + u'[\\u2713] Ended calibration successfully' + plot_utils.bcolors.ENDC)\n"
   ]
  }
 ]
}