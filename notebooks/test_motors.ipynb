{
 "metadata": {
  "language_info": {
   "codemirror_mode": {
    "name": "ipython",
    "version": 3
   },
   "file_extension": ".py",
   "mimetype": "text/x-python",
   "name": "python",
   "nbconvert_exporter": "python",
   "pygments_lexer": "ipython3",
   "version": "3.6.9"
  },
  "orig_nbformat": 2,
  "kernelspec": {
   "name": "python369jvsc74a57bd031f2aee4e71d21fbe5cf8b01ff0e069b9275f58929596ceb00d14d90e3e16cd6",
   "display_name": "Python 3.6.9 64-bit"
  },
  "metadata": {
   "interpreter": {
    "hash": "31f2aee4e71d21fbe5cf8b01ff0e069b9275f58929596ceb00d14d90e3e16cd6"
   }
  }
 },
 "nbformat": 4,
 "nbformat_minor": 2,
 "cells": [
  {
   "cell_type": "code",
   "execution_count": null,
   "metadata": {},
   "outputs": [],
   "source": [
    "import os\n",
    "import sys\n",
    "import glob\n",
    "import yaml\n",
    "import numpy as np\n",
    "# tell matplotlib not to try to load up GTK as it returns errors over ssh\n",
    "from matplotlib import use as plt_use\n",
    "plt_use(\"Agg\")\n",
    "from matplotlib import pyplot as plt\n",
    "\n",
    "#import costum files\n",
    "sys.path.append('/home/tree/ecat_dev/motor_calibration')\n",
    "from utils import process_phase\n",
    "from utils import process_torque\n",
    "from utils import process_ripple\n",
    "from utils import process_friction\n",
    "from utils import plot_utils\n",
    "from utils import move_utils\n",
    "from utils.prompt_utils import single_yes_or_no_question as prompt_user"
   ]
  },
  {
   "cell_type": "code",
   "execution_count": null,
   "metadata": {},
   "outputs": [],
   "source": [
    "## Parameters:\n",
    "# path to test-pdo\n",
    "cmd0 = os.path.expanduser('~/ecat_dev/ec_master_app/build/examples/motor-calib/test-pdo/test-pdo')\n",
    "# path to phase-calib to test phase angle and log data\n",
    "cmd1 = os.path.expanduser('~/ecat_dev/ec_master_app/build/examples/motor-calib/phase-calib/phase-calib')\n",
    "# path to set-phase to set the optimized value to the motor\n",
    "cmd1b = os.path.expanduser('~/ecat_dev/ec_master_app/build/examples/motor-calib/set-phase/set-phase')\n",
    "# path to ripple-calib to test test ripple and positionl offset\n",
    "cmd2 = os.path.expanduser('~/ecat_dev/ec_master_app/build/examples/motor-calib/torque-calib/torque-calib')\n",
    "# path to set-phase to set the optimized value to the motor\n",
    "cmd2b = os.path.expanduser('~/ecat_dev/ec_master_app/build/examples/motor-calib/set-torque/set-torque')\n",
    "# path to ripple-calib to test test ripple and positionl offset\n",
    "cmd3 = os.path.expanduser('~/ecat_dev/ec_master_app/build/examples/motor-calib/ripple-calib/ripple-calib')\n",
    "# path to friction-calib for friction identification\n",
    "cmd4 = os.path.expanduser('~/ecat_dev/ec_master_app/build/examples/motor-calib/friction-calib/friction-calib')\n",
    "# path to inertia-calib for inertia identification\n",
    "cmd4b = os.path.expanduser('~/ecat_dev/ec_master_app/build/examples/motor-calib/inertia-calib/inertia-calib')\n",
    "# path to the configuration file for the motor and the test variables\n",
    "config_file = os.path.expanduser('~/ecat_dev/ec_master_app/examples/motor-calib/config.yaml')\n",
    "\n",
    "\n",
    "#print logo\n",
    "plot_utils.print_alberobotics()"
   ]
  },
  {
   "source": [
    "# Test PDO"
   ],
   "cell_type": "markdown",
   "metadata": {}
  },
  {
   "cell_type": "code",
   "execution_count": null,
   "metadata": {},
   "outputs": [],
   "source": [
    "## test pdo\n",
    "print(plot_utils.bcolors.OKBLUE + \"[i] Starting test-pdo\" + plot_utils.bcolors.ENDC)\n",
    "if os.system(cmd0 + ' ' + config_file):\n",
    "    sys.exit(plot_utils.bcolors.FAIL + u'[\\u2717] Error during test-pdo' + plot_utils.bcolors.ENDC)\n",
    "print(plot_utils.bcolors.OKBLUE + \"[i] Ended test-pdo successfully\" + plot_utils.bcolors.ENDC)"
   ]
  },
  {
   "cell_type": "code",
   "execution_count": null,
   "metadata": {},
   "outputs": [],
   "source": [
    "#get updated yaml file\n",
    "list_of_files = glob.glob('/logs/**/*_results.yaml', recursive=True)\n",
    "config_file = max(list_of_files, key=os.path.getctime)\n",
    "print(config_file)"
   ]
  },
  {
   "source": [
    "# Phase calib"
   ],
   "cell_type": "markdown",
   "metadata": {}
  },
  {
   "cell_type": "code",
   "execution_count": null,
   "metadata": {},
   "outputs": [],
   "source": [
    "## run test\n",
    "print(plot_utils.bcolors.OKBLUE + \"[i] Starting phase-calib\" + plot_utils.bcolors.ENDC)\n",
    "if os.system(cmd1 + ' ' + config_file):\n",
    "    sys.exit(plot_utils.bcolors.FAIL + u'[\\u2717] Error during phase-calib' + plot_utils.bcolors.ENDC)\n",
    "print(plot_utils.bcolors.OKBLUE + \"[i] Ended phase-calib successfully\" + plot_utils.bcolors.ENDC)"
   ]
  },
  {
   "cell_type": "code",
   "execution_count": null,
   "metadata": {},
   "outputs": [],
   "source": [
    "# process extracted data\n",
    "print(plot_utils.bcolors.OKBLUE + \"[i] Processing phase data\" + plot_utils.bcolors.ENDC)\n",
    "config_file = process_phase.process(yaml_file=config_file, plot_all=False)"
   ]
  },
  {
   "cell_type": "code",
   "execution_count": null,
   "metadata": {},
   "outputs": [],
   "source": [
    "## Upload to motor the best phase angle\n",
    "print(plot_utils.bcolors.OKBLUE + \"[i] Sending phase angle to motor using set-phase\" +  plot_utils.bcolors.ENDC)\n",
    "if os.system(cmd1b + ' ' + config_file):\n",
    "    sys.exit(plot_utils.bcolors.FAIL + u'[\\u2717] Error during set-phase' + plot_utils.bcolors.ENDC)\n",
    "print(plot_utils.bcolors.OKBLUE + \"[i] Ended set-phase successfully\" + plot_utils.bcolors.ENDC)"
   ]
  },
  {
   "source": [
    "# Torque calib"
   ],
   "cell_type": "markdown",
   "metadata": {}
  },
  {
   "cell_type": "code",
   "execution_count": null,
   "metadata": {},
   "outputs": [],
   "source": [
    "# prompt user to connect loadcell before continuing\n",
    "print(\"For torsion bar stiffness and torque constant calibration, the loadcell is needed.\")\n",
    "while not prompt_user(\"\"\"Before continuing make sure the loadcell is properly connected and the motor's flange is in contact with it.\n",
    "Continue?\"\"\"):\n",
    "    pass"
   ]
  },
  {
   "cell_type": "code",
   "execution_count": null,
   "metadata": {},
   "outputs": [],
   "source": [
    "## test ripple and position dependant torque\n",
    "print(plot_utils.bcolors.OKBLUE + \"[i] Starting torque-calib\" + plot_utils.bcolors.ENDC)\n",
    "if os.system(cmd2 + ' ' + config_file):\n",
    "    sys.exit(plot_utils.bcolors.FAIL + u'[\\u2717] Error during torque-calib' + plot_utils.bcolors.ENDC)\n",
    "print(plot_utils.bcolors.OKBLUE + \"[i] Ended torque-calib successfully\" + plot_utils.bcolors.ENDC)\n",
    "\n"
   ]
  },
  {
   "cell_type": "code",
   "execution_count": null,
   "metadata": {
    "tags": []
   },
   "outputs": [],
   "source": [
    "config_file ='/logs/AOR03-EOR03-H5236/2021-05-04--10-06-49/AOR03-EOR03-H5236_2021-05-04--10-06-49_results.yaml'\n",
    "# process extracted data\n",
    "print(plot_utils.bcolors.OKBLUE + \"[i] Processing torque data\" + plot_utils.bcolors.ENDC)\n",
    "config_file = process_torque.process(yaml_file=config_file, plot_all=False)"
   ]
  },
  {
   "cell_type": "code",
   "execution_count": null,
   "metadata": {},
   "outputs": [],
   "source": [
    "# Upload to motor the updated torsion bar stiffness (and torque constant?)\n",
    "print(plot_utils.bcolors.OKBLUE + \"[i] Sending torsion bar stiffness to motor using set-torque\" +  plot_utils.bcolors.ENDC)\n",
    "if os.system(cmd2b + ' ' + config_file):\n",
    "    sys.exit(plot_utils.bcolors.FAIL + u'[\\u2717] Error during set-torque' + plot_utils.bcolors.ENDC)\n",
    "print(plot_utils.bcolors.OKBLUE + \"[i] Ended set-torque successfully\" + plot_utils.bcolors.ENDC)\n"
   ]
  },
  {
   "source": [
    "# Ripple calib"
   ],
   "cell_type": "markdown",
   "metadata": {}
  },
  {
   "cell_type": "code",
   "execution_count": null,
   "metadata": {},
   "outputs": [],
   "source": [
    "# prompt user to disconnect loadcell before continuing\n",
    "print(\"For ripple and position dependant torque, the motor must be free to move.\")\n",
    "while not prompt_user(\"\"\"Before continuing make sure the motor's output flange has nothing connected.\n",
    "Continue?\"\"\"):\n",
    "    pass"
   ]
  },
  {
   "cell_type": "code",
   "execution_count": null,
   "metadata": {},
   "outputs": [],
   "source": [
    "## run test\n",
    "print(plot_utils.bcolors.OKBLUE + \"[i] Starting ripple-calib\" + plot_utils.bcolors.ENDC)\n",
    "if os.system(cmd4 + ' ' + config_file):\n",
    "    sys.exit(plot_utils.bcolors.FAIL + u'[\\u2717] Error during ripple-calib' + plot_utils.bcolors.ENDC)\n",
    "print(plot_utils.bcolors.OKBLUE + \"[i] Ended ripple-calib successfully\" + plot_utils.bcolors.ENDC)"
   ]
  },
  {
   "cell_type": "code",
   "execution_count": null,
   "metadata": {},
   "outputs": [],
   "source": [
    "# process extracted data\n",
    "print(plot_utils.bcolors.OKBLUE + \"[i] Processing ripple data\" + plot_utils.bcolors.ENDC)\n",
    "config_file = process_ripple.process(yaml_file=config_file, plot_all=False)"
   ]
  },
  {
   "source": [
    "# Friction and Inertia identification"
   ],
   "cell_type": "markdown",
   "metadata": {}
  },
  {
   "source": [
    "## run friction identification test\n",
    "print(plot_utils.bcolors.OKBLUE + \"[i] Starting friction-calib\" + plot_utils.bcolors.ENDC)\n",
    "if os.system(cmd5 + ' ' + config_file):\n",
    "    sys.exit(plot_utils.bcolors.FAIL + u'[\\u2717] Error during friction-calib' + plot_utils.bcolors.ENDC)\n",
    "print(plot_utils.bcolors.OKBLUE + \"[i] Ended friction-calib successfully\" + plot_utils.bcolors.ENDC)"
   ],
   "cell_type": "code",
   "metadata": {},
   "execution_count": null,
   "outputs": []
  },
  {
   "cell_type": "code",
   "execution_count": null,
   "metadata": {},
   "outputs": [],
   "source": [
    "## run inertia identification test\n",
    "print(plot_utils.bcolors.OKBLUE + \"[i] Starting inertia-calib\" + plot_utils.bcolors.ENDC)\n",
    "if os.system(cmd6 + ' ' + config_file):\n",
    "    sys.exit(plot_utils.bcolors.FAIL + u'[\\u2717] Error during inertia-calib' + plot_utils.bcolors.ENDC)\n",
    "move_utils.move_log(yaml_file=config_file)\n",
    "print(plot_utils.bcolors.OKBLUE + \"[i] Ended inertia-calib successfully\" + plot_utils.bcolors.ENDC)"
   ]
  },
  {
   "cell_type": "code",
   "execution_count": null,
   "metadata": {},
   "outputs": [],
   "source": [
    "# process extracted data\n",
    "print(plot_utils.bcolors.OKBLUE + \"[i] Processing friction and inertia data\" + plot_utils.bcolors.ENDC)\n",
    "process_friction.process(yaml_file=config_file, plot_all=False)"
   ]
  },
  {
   "cell_type": "code",
   "execution_count": null,
   "metadata": {},
   "outputs": [],
   "source": [
    "# ## TODO: Frequency response calibration\n",
    "# # prompt user to fully lock the motor before continuing\n",
    "# print(\"For frequency response calibration, the motor must be fully locked\")\n",
    "# while not prompt_user(\"\"\"Before continuing make sure the motor's output flange is properly locked.\n",
    "# Continue?\"\"\"):\n",
    "#     pass"
   ]
  },
  {
   "cell_type": "code",
   "execution_count": null,
   "metadata": {},
   "outputs": [],
   "source": [
    "# # TODO: run test\n",
    "# print(plot_utils.bcolors.OKBLUE + \"[i] Starting frequency-calib\" + plot_utils.bcolors.ENDC)\n",
    "# if os.system(cmd5 + ' ' + config_file):\n",
    "#     sys.exit(plot_utils.bcolors.FAIL + u'[\\u2717] Error during frequency-calib' + plot_utils.bcolors.ENDC)\n",
    "# move_utils.move_log(yaml_file=config_file)\n",
    "# print(plot_utils.bcolors.OKBLUE + \"[i] Ended frequency-calib successfully\" + plot_utils.bcolors.ENDC)"
   ]
  },
  {
   "cell_type": "code",
   "execution_count": null,
   "metadata": {},
   "outputs": [],
   "source": [
    "# # TODO: process extracted data\n",
    "# print(plot_utils.bcolors.OKBLUE + \"[i] Processing frequency response data\" + plot_utils.bcolors.ENDC)\n",
    "# process_friction.process(yaml_file=config_file, plot_all=False)"
   ]
  },
  {
   "cell_type": "code",
   "execution_count": null,
   "metadata": {},
   "outputs": [],
   "source": [
    "print(plot_utils.bcolors.OKGREEN + u'[\\u2713] Ended calibration successfully' + plot_utils.bcolors.ENDC)\n"
   ]
  }
 ]
}