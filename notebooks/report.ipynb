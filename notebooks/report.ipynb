{
 "metadata": {
  "language_info": {
   "codemirror_mode": {
    "name": "ipython",
    "version": 3
   },
   "file_extension": ".py",
   "mimetype": "text/x-python",
   "name": "python",
   "nbconvert_exporter": "python",
   "pygments_lexer": "ipython3",
   "version": "3.6.9-final"
  },
  "orig_nbformat": 2,
  "kernelspec": {
   "name": "python3",
   "display_name": "Python 3.6.9 64-bit",
   "metadata": {
    "interpreter": {
     "hash": "31f2aee4e71d21fbe5cf8b01ff0e069b9275f58929596ceb00d14d90e3e16cd6"
    }
   }
  }
 },
 "nbformat": 4,
 "nbformat_minor": 2,
 "cells": [
  {
   "cell_type": "code",
   "execution_count": 1,
   "metadata": {},
   "outputs": [],
   "source": [
    "config_file = '/logs/AOR02-EOR02-H3236/2021-04-22--16-48-43/AOR02-EOR02-H3236_2021-04-22--16-48-43_results.yaml'"
   ]
  },
  {
   "cell_type": "code",
   "execution_count": 2,
   "metadata": {},
   "outputs": [],
   "source": [
    "import os\n",
    "import sys\n",
    "import glob\n",
    "import yaml\n",
    "import numpy as np\n",
    "# tell matplotlib not to try to load up GTK as it returns errors over ssh\n",
    "from matplotlib import use as plt_use\n",
    "plt_use(\"Agg\")\n",
    "from matplotlib import pyplot as plt\n",
    "\n",
    "#import costum files\n",
    "sys.path.append('/home/tree/ecat_dev/motor_calibration')\n",
    "from utils import process_friction\n",
    "from utils import process_report\n",
    "from utils import plot_utils\n",
    "from utils import move_utils"
   ]
  },
  {
   "cell_type": "code",
   "execution_count": 3,
   "metadata": {},
   "outputs": [
    {
     "output_type": "stream",
     "name": "stdout",
     "text": [
      "\u001b[94m[i] Processing friction and inertia data\u001b[0m\n",
      "[i] Using yaml_file: /logs/ALE01-ELE01-H4236/2020-12-15--17-01-01/ALE01-ELE01-H4236-20201215170101-results.yaml\n",
      "   Iteration     Total nfev        Cost      Cost reduction    Step norm     Optimality   \n",
      "       0              1         3.4809e+04                                    2.74e-09    \n",
      "`gtol` termination condition is satisfied.\n",
      "Function evaluations 1, initial cost 3.4809e+04, final cost 3.4809e+04, first-order optimality 2.74e-09.\n",
      "[i] Saved graph as: /logs/ALE01-ELE01-H4236/2020-12-15--17-01-01/images/ALE01-ELE01-H4236-20201215170101-friction_calib-torque_vs_w.png\n",
      "[i] Saved graph as: /logs/ALE01-ELE01-H4236/2020-12-15--17-01-01/images/ALE01-ELE01-H4236-20201215170101-friction_calib-torque_vs_time.png\n",
      "[i] Saved graph as: /logs/ALE01-ELE01-H4236/2020-12-15--17-01-01/images/ALE01-ELE01-H4236-20201215170101-friction_calib-error_hist.png\n",
      "[i] Saved graph as: /logs/ALE01-ELE01-H4236/2020-12-15--17-01-01/images/ALE01-ELE01-H4236-20201215170101-friction_calib-error_vs_w.png\n",
      "[i] Saved graph as: /logs/ALE01-ELE01-H4236/2020-12-15--17-01-01/images/ALE01-ELE01-H4236-20201215170101-friction_calib-torque_vs_w_full.png\n",
      "[i] Started simulation\n",
      "[i] Simulation completed\n",
      "[i] Saved graph as: /logs/ALE01-ELE01-H4236/2020-12-15--17-01-01/images/ALE01-ELE01-H4236-20201215170101-friction_calib-simulation.png\n",
      "[i] Results:\n",
      " :\tmin_gamma:\t1000.0\n",
      " :\tmax_gamma:\tinf\n",
      " :\tmin_const_vel:\t-inf\n",
      " :\tmax_const_vel:\tinf\n",
      " :\tgamma_c:\t1000.0000001\n",
      " :\tgamma_v:\t1000.0000001\n",
      " :\tdc_plus:\t2.2895673859039865\n",
      " :\tdc_minus:\t2.4038288913728065\n",
      " :\tdv_plus:\t0.7900343470733227\n",
      " :\tdv_minus:\t0.7939119778509439\n",
      " :\tmotor_inertia:\t0.20344707344149549\n",
      " :\tactual_motor_inertia:\t0.04025\n",
      " :\tfriction_RMSE:\t0.38032147475432737\n",
      " :\tinertia_RMSE:\t2.7724655466484167\n",
      " :\tfriction_NRMSE:\t0.07593503058710899\n",
      " :\tinertia_NRMSE:\t10.295786121928495\n",
      " :\tposition_RMSE:\t0.5465081512373274\n",
      " :\tvelocity_RMSE:\t0.3148840838191797\n",
      " :\tposition_NRMSE:\t0.3651192852553122\n",
      " :\tvelocity_NRMSE:\t0.546837285674101\n",
      "[i] Saved results in: /logs/ALE01-ELE01-H4236/2020-12-15--17-01-01/ALE01-ELE01-H4236-20201215170101-results.yaml\n"
     ]
    }
   ],
   "source": [
    "# process extracted data\n",
    "print(plot_utils.bcolors.OKBLUE + \"[i] Processing friction and inertia data\" + plot_utils.bcolors.ENDC)\n",
    "process_friction.process(yaml_file=config_file, plot_all=False, run_simulation=True)"
   ]
  },
  {
   "cell_type": "code",
   "execution_count": 4,
   "metadata": {},
   "outputs": [
    {
     "output_type": "stream",
     "name": "stdout",
     "text": [
      "\u001b[94m[i] Genereating the report\u001b[0m\n",
      "[i] Generating report from: /logs/ALE01-ELE01-H4236/2020-12-15--17-01-01/ALE01-ELE01-H4236-20201215170101-results.yaml\n",
      "[i] Report saved as: /logs/ALE01-ELE01-H4236/2020-12-15--17-01-01/ALE01-ELE01-H4236-20201215170101-report.pdf\n"
     ]
    }
   ],
   "source": [
    "# generate report\n",
    "print(plot_utils.bcolors.OKBLUE + \"[i] Genereating the report\" + plot_utils.bcolors.ENDC)\n",
    "config_file = process_report.process(yaml_file=config_file)"
   ]
  },
  {
   "cell_type": "code",
   "execution_count": 5,
   "metadata": {},
   "outputs": [
    {
     "output_type": "stream",
     "name": "stdout",
     "text": [
      "\u001b[92m[✓] Ending program successfully\u001b[0m\n"
     ]
    }
   ],
   "source": [
    "print(plot_utils.bcolors.OKGREEN + u'[\\u2713] Ending program successfully' + plot_utils.bcolors.ENDC)\n"
   ]
  }
 ]
}