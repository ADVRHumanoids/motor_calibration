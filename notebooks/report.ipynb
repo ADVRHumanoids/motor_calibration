{
 "metadata": {
  "language_info": {
   "codemirror_mode": {
    "name": "ipython",
    "version": 3
   },
   "file_extension": ".py",
   "mimetype": "text/x-python",
   "name": "python",
   "nbconvert_exporter": "python",
   "pygments_lexer": "ipython3",
   "version": "3.6.9"
  },
  "orig_nbformat": 2,
  "kernelspec": {
   "name": "python369jvsc74a57bd031f2aee4e71d21fbe5cf8b01ff0e069b9275f58929596ceb00d14d90e3e16cd6",
   "display_name": "Python 3.6.9 64-bit"
  },
  "metadata": {
   "interpreter": {
    "hash": "31f2aee4e71d21fbe5cf8b01ff0e069b9275f58929596ceb00d14d90e3e16cd6"
   }
  }
 },
 "nbformat": 4,
 "nbformat_minor": 2,
 "cells": [
  {
   "cell_type": "code",
   "execution_count": 1,
   "metadata": {},
   "outputs": [],
   "source": [
    "config_file = '/logs/ALE01-ELE01-H4236/2021-05-03--16-29-10/ALE01-ELE01-H4236_2021-05-03--16-29-10_results.yaml'"
   ]
  },
  {
   "cell_type": "code",
   "execution_count": 2,
   "metadata": {},
   "outputs": [],
   "source": [
    "import os\n",
    "import sys\n",
    "import glob\n",
    "import yaml\n",
    "import numpy as np\n",
    "# tell matplotlib not to try to load up GTK as it returns errors over ssh\n",
    "from matplotlib import use as plt_use\n",
    "plt_use(\"Agg\")\n",
    "from matplotlib import pyplot as plt\n",
    "\n",
    "#import costum files\n",
    "sys.path.append('/home/tree/ecat_dev/motor_calibration')\n",
    "from utils import process_friction\n",
    "from utils import process_report\n",
    "from utils import plot_utils\n",
    "from utils import move_utils"
   ]
  },
  {
   "cell_type": "code",
   "execution_count": 3,
   "metadata": {},
   "outputs": [
    {
     "output_type": "stream",
     "name": "stdout",
     "text": [
      "\u001b[94m[i] Genereating the report\u001b[0m\n",
      "[i] Generating report from: /logs/ALE01-ELE01-H4236/2021-05-03--16-29-10/ALE01-ELE01-H4236_2021-05-03--16-29-10_results.yaml\n",
      "[i] Report saved as: /logs/ALE01-ELE01-H4236/2021-05-03--16-29-10/ALE01-ELE01-H4236_2021-05-03--16-29-10_report.pdf\n"
     ]
    }
   ],
   "source": [
    "# generate report\n",
    "print(plot_utils.bcolors.OKBLUE + \"[i] Genereating the report\" + plot_utils.bcolors.ENDC)\n",
    "config_file = process_report.process(yaml_file=config_file)"
   ]
  },
  {
   "cell_type": "code",
   "execution_count": 4,
   "metadata": {},
   "outputs": [
    {
     "output_type": "stream",
     "name": "stdout",
     "text": [
      "\u001b[92m[✓] Ending program successfully\u001b[0m\n"
     ]
    }
   ],
   "source": [
    "print(plot_utils.bcolors.OKGREEN + u'[\\u2713] Ending program successfully' + plot_utils.bcolors.ENDC)\n"
   ]
  }
 ]
}