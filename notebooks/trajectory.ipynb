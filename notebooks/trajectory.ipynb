{
 "metadata": {
  "language_info": {
   "codemirror_mode": {
    "name": "ipython",
    "version": 3
   },
   "file_extension": ".py",
   "mimetype": "text/x-python",
   "name": "python",
   "nbconvert_exporter": "python",
   "pygments_lexer": "ipython3",
   "version": "3.6.9-final"
  },
  "orig_nbformat": 2,
  "kernelspec": {
   "name": "Python 3.6.9 64-bit",
   "display_name": "Python 3.6.9 64-bit",
   "metadata": {
    "interpreter": {
     "hash": "31f2aee4e71d21fbe5cf8b01ff0e069b9275f58929596ceb00d14d90e3e16cd6"
    }
   }
  }
 },
 "nbformat": 4,
 "nbformat_minor": 2,
 "cells": [
  {
   "cell_type": "code",
   "execution_count": null,
   "metadata": {},
   "outputs": [],
   "source": [
    "from matplotlib import pyplot as plt\n",
    "import numpy as np"
   ]
  },
  {
   "cell_type": "code",
   "execution_count": null,
   "metadata": {},
   "outputs": [],
   "source": [
    "def smootherstep(edge0:float, edge1:float, x:float):\n",
    "    # Scale, and clamp x to 0..1 range\n",
    "    x = clamp((x - edge0) / (edge1 - edge0), 0.0, 1.0)\n",
    "    # Evaluate polynomial\n",
    "    return x * x * x * (x * (x * 6 - 15) + 10)\n",
    "\n",
    "def clamp(x:float, lowerlimit:float, upperlimit:float):\n",
    "    if (x < lowerlimit):\n",
    "      x = lowerlimit\n",
    "    elif (x > upperlimit):\n",
    "      x = upperlimit\n",
    "    return x\n",
    "\n",
    "def smoothertrapez(x_lowerlimit:float, x_edge0:float, x_edge1:float, x_upperlimit:float, y_min:float, y_max:float, x:float):\n",
    "    if x < x_lowerlimit:\n",
    "        return y_min\n",
    "    elif x < x_edge0:\n",
    "        return smootherstep(x_lowerlimit, x_edge0, x) * (y_max-y_min)\n",
    "    elif x < x_edge1:\n",
    "        return y_max\n",
    "    elif x < x_upperlimit:\n",
    "        return y_max - smootherstep(x_edge1, x_upperlimit, x) * (y_max-y_min)\n",
    "    else:\n",
    "        return y_min\n",
    "\n",
    "y_min=0\n",
    "y_max=9.84\n",
    "x_lowerlimit = 0.\n",
    "x_upperlimit = 4.\n",
    "x_edge0 = 0.1\n",
    "x_edge1 = 3.7\n",
    "steps = 10000\n",
    "x=[x_i for x_i in np.linspace(start= x_lowerlimit,stop=x_upperlimit, num=steps)]\n",
    "y=[smoothertrapez(x_lowerlimit=x_lowerlimit, x_edge0=x_edge0, x_edge1=x_edge1, x_upperlimit=x_upperlimit, y_min=y_min, y_max=y_max, x=x_i) for x_i in x]\n",
    "plt.plot(x,y)\n"
   ]
  },
  {
   "cell_type": "code",
   "execution_count": null,
   "metadata": {},
   "outputs": [],
   "source": [
    "yi=[y_i for y_i,x_i in zip(y,x) if x_i <= x_edge0]\n",
    "xi=[x_i for x_i in x if x_i <= x_edge0]\n",
    "plt.plot(xi,yi)"
   ]
  },
  {
   "cell_type": "code",
   "execution_count": null,
   "metadata": {},
   "outputs": [],
   "source": [
    "import scipy.integrate as it\n",
    "pos = it.cumtrapz(yi,initial=0)\n",
    "print('final pos:', str(pos[-1]))\n",
    "fig, axs = plt.subplots(2)\n",
    "axs[0].plot(xi,pos)\n",
    "\n",
    "acc = [0.0]+[(yi[i]-yi[i-1])/(xi[i]-xi[i-1]) for i in range(1, len(yi))]\n",
    "axs[1].plot(xi,acc)\n"
   ]
  },
  {
   "cell_type": "code",
   "execution_count": null,
   "metadata": {},
   "outputs": [],
   "source": [
    "fig_name = '/tmp/a.png'\n",
    "print('Saving graph as: ' + fig_name)\n",
    "plt.savefig(fname=fig_name, format='png', bbox_inches='tight')"
   ]
  },
  {
   "cell_type": "code",
   "execution_count": null,
   "metadata": {},
   "outputs": [],
   "source": []
  }
 ]
}